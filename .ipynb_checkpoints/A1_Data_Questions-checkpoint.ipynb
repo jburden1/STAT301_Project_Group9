{
 "cells": [
  {
   "cell_type": "markdown",
   "id": "fe522a79-8407-4f29-89c1-5d8973f1eb86",
   "metadata": {
    "tags": []
   },
   "source": [
    "# Assignment 1: Data and Questions\n",
    "---"
   ]
  },
  {
   "cell_type": "code",
   "execution_count": 1,
   "id": "d8fb81c9-0ef8-4b67-8311-f923a8c9234f",
   "metadata": {
    "tags": []
   },
   "outputs": [
    {
     "name": "stderr",
     "output_type": "stream",
     "text": [
      "── \u001b[1mAttaching core tidyverse packages\u001b[22m ──────────────────────── tidyverse 2.0.0 ──\n",
      "\u001b[32m✔\u001b[39m \u001b[34mdplyr    \u001b[39m 1.1.4     \u001b[32m✔\u001b[39m \u001b[34mreadr    \u001b[39m 2.1.4\n",
      "\u001b[32m✔\u001b[39m \u001b[34mforcats  \u001b[39m 1.0.0     \u001b[32m✔\u001b[39m \u001b[34mstringr  \u001b[39m 1.5.1\n",
      "\u001b[32m✔\u001b[39m \u001b[34mggplot2  \u001b[39m 3.4.4     \u001b[32m✔\u001b[39m \u001b[34mtibble   \u001b[39m 3.2.1\n",
      "\u001b[32m✔\u001b[39m \u001b[34mlubridate\u001b[39m 1.9.3     \u001b[32m✔\u001b[39m \u001b[34mtidyr    \u001b[39m 1.3.0\n",
      "\u001b[32m✔\u001b[39m \u001b[34mpurrr    \u001b[39m 1.0.2     \n",
      "── \u001b[1mConflicts\u001b[22m ────────────────────────────────────────── tidyverse_conflicts() ──\n",
      "\u001b[31m✖\u001b[39m \u001b[34mdplyr\u001b[39m::\u001b[32mfilter()\u001b[39m masks \u001b[34mstats\u001b[39m::filter()\n",
      "\u001b[31m✖\u001b[39m \u001b[34mdplyr\u001b[39m::\u001b[32mlag()\u001b[39m    masks \u001b[34mstats\u001b[39m::lag()\n",
      "\u001b[36mℹ\u001b[39m Use the conflicted package (\u001b[3m\u001b[34m<http://conflicted.r-lib.org/>\u001b[39m\u001b[23m) to force all conflicts to become errors\n"
     ]
    }
   ],
   "source": [
    "# load libraries\n",
    "library(tidyverse)"
   ]
  },
  {
   "cell_type": "markdown",
   "id": "315ea498-d8db-4bac-ac1d-90fce0ba84c8",
   "metadata": {},
   "source": [
    "## 1.0 Data"
   ]
  },
  {
   "cell_type": "markdown",
   "id": "1e3c6a65-9e61-4c4a-8bd8-ab0ff77d2da3",
   "metadata": {},
   "source": [
    "The provided dataset comprises information on the 215,029 most popular public GitHub repositories, ranked by the number of stars (likes) received from other GitHub users. Each repository in the dataset has a minimum of 167 stars. The dataset contains 24 variables and is publicly accessible via Kaggle: https://www.kaggle.com/datasets/donbarbos/github-repos/data.\n",
    "\n",
    "The data was collected using the GitHub search API which allows users to perform advanced searches across public GitHub repositories. We consider the dataset to represent a sample of popular software projects.\n",
    "\n",
    "**Table 1** provides a glimpse of the first six rows of the raw GitHub repositories dataset. **Table 2** provides a description of the variables present in the dataset."
   ]
  },
  {
   "cell_type": "code",
   "execution_count": 2,
   "id": "3933dd47-4f65-4f6a-8c3b-94812507b1ef",
   "metadata": {
    "tags": []
   },
   "outputs": [
    {
     "name": "stderr",
     "output_type": "stream",
     "text": [
      "\u001b[1mRows: \u001b[22m\u001b[34m215029\u001b[39m \u001b[1mColumns: \u001b[22m\u001b[34m24\u001b[39m\n",
      "\u001b[36m──\u001b[39m \u001b[1mColumn specification\u001b[22m \u001b[36m────────────────────────────────────────────────────────\u001b[39m\n",
      "\u001b[1mDelimiter:\u001b[22m \",\"\n",
      "\u001b[31mchr\u001b[39m  (8): Name, Description, URL, Homepage, Language, License, Topics, Defau...\n",
      "\u001b[32mdbl\u001b[39m  (5): Size, Stars, Forks, Issues, Watchers\n",
      "\u001b[33mlgl\u001b[39m  (9): Has Issues, Has Projects, Has Downloads, Has Wiki, Has Pages, Has ...\n",
      "\u001b[34mdttm\u001b[39m (2): Created At, Updated At\n",
      "\n",
      "\u001b[36mℹ\u001b[39m Use `spec()` to retrieve the full column specification for this data.\n",
      "\u001b[36mℹ\u001b[39m Specify the column types or set `show_col_types = FALSE` to quiet this message.\n"
     ]
    }
   ],
   "source": [
    "#-------------------------------------------------------\n",
    "# Code to load data into R\n",
    "#-------------------------------------------------------\n",
    "\n",
    "# read data set from GitHub\n",
    "repo_raw <- read_csv(\"https://github.com/jburden1/STAT301_Project_Group9/raw/main/data/repositories.csv\")"
   ]
  },
  {
   "cell_type": "markdown",
   "id": "572a0227-5af0-4bab-8e8b-2b09a4e21fa6",
   "metadata": {},
   "source": [
    "**Table 1:** First six rows of the GitHub repositories dataset."
   ]
  },
  {
   "cell_type": "code",
   "execution_count": 3,
   "id": "9c1abd82-8f38-4a34-bf05-a1db165e0e33",
   "metadata": {},
   "outputs": [
    {
     "data": {
      "text/html": [
       "<table class=\"dataframe\">\n",
       "<caption>A tibble: 6 × 24</caption>\n",
       "<thead>\n",
       "\t<tr><th scope=col>Name</th><th scope=col>Description</th><th scope=col>URL</th><th scope=col>Created At</th><th scope=col>Updated At</th><th scope=col>Homepage</th><th scope=col>Size</th><th scope=col>Stars</th><th scope=col>Forks</th><th scope=col>Issues</th><th scope=col>⋯</th><th scope=col>Has Issues</th><th scope=col>Has Projects</th><th scope=col>Has Downloads</th><th scope=col>Has Wiki</th><th scope=col>Has Pages</th><th scope=col>Has Discussions</th><th scope=col>Is Fork</th><th scope=col>Is Archived</th><th scope=col>Is Template</th><th scope=col>Default Branch</th></tr>\n",
       "\t<tr><th scope=col>&lt;chr&gt;</th><th scope=col>&lt;chr&gt;</th><th scope=col>&lt;chr&gt;</th><th scope=col>&lt;dttm&gt;</th><th scope=col>&lt;dttm&gt;</th><th scope=col>&lt;chr&gt;</th><th scope=col>&lt;dbl&gt;</th><th scope=col>&lt;dbl&gt;</th><th scope=col>&lt;dbl&gt;</th><th scope=col>&lt;dbl&gt;</th><th scope=col>⋯</th><th scope=col>&lt;lgl&gt;</th><th scope=col>&lt;lgl&gt;</th><th scope=col>&lt;lgl&gt;</th><th scope=col>&lt;lgl&gt;</th><th scope=col>&lt;lgl&gt;</th><th scope=col>&lt;lgl&gt;</th><th scope=col>&lt;lgl&gt;</th><th scope=col>&lt;lgl&gt;</th><th scope=col>&lt;lgl&gt;</th><th scope=col>&lt;chr&gt;</th></tr>\n",
       "</thead>\n",
       "<tbody>\n",
       "\t<tr><td>freeCodeCamp               </td><td>freeCodeCamp.org's open-source codebase and curriculum. Learn to code for free.         </td><td>https://github.com/freeCodeCamp/freeCodeCamp             </td><td>2014-12-24 17:49:19</td><td>2023-09-21 11:32:33</td><td>http://contribute.freecodecamp.org/                      </td><td>387451</td><td>374074</td><td>33599</td><td>  248</td><td>⋯</td><td> TRUE</td><td> TRUE</td><td>TRUE</td><td>FALSE</td><td> TRUE</td><td>FALSE</td><td>FALSE</td><td>FALSE</td><td>FALSE</td><td>main  </td></tr>\n",
       "\t<tr><td>free-programming-books     </td><td>:books: Freely available programming books                                              </td><td>https://github.com/EbookFoundation/free-programming-books</td><td>2013-10-11 06:50:37</td><td>2023-09-21 11:09:25</td><td>https://ebookfoundation.github.io/free-programming-books/</td><td> 17087</td><td>298393</td><td>57194</td><td>   46</td><td>⋯</td><td> TRUE</td><td>FALSE</td><td>TRUE</td><td>FALSE</td><td> TRUE</td><td>FALSE</td><td>FALSE</td><td>FALSE</td><td>FALSE</td><td>main  </td></tr>\n",
       "\t<tr><td>awesome                    </td><td>😎 Awesome lists about all kinds of interesting topics                                  </td><td>https://github.com/sindresorhus/awesome                  </td><td>2014-07-11 13:42:37</td><td>2023-09-21 11:18:22</td><td>NA                                                       </td><td>  1441</td><td>269997</td><td>26485</td><td>   61</td><td>⋯</td><td> TRUE</td><td>FALSE</td><td>TRUE</td><td>FALSE</td><td> TRUE</td><td>FALSE</td><td>FALSE</td><td>FALSE</td><td>FALSE</td><td>main  </td></tr>\n",
       "\t<tr><td>996.ICU                    </td><td>Repo for counting stars and contributing. Press F to pay respect to glorious developers.</td><td>https://github.com/996icu/996.ICU                        </td><td>2019-03-26 07:31:14</td><td>2023-09-21 08:09:01</td><td>https://996.icu                                          </td><td>187799</td><td>267901</td><td>21497</td><td>16712</td><td>⋯</td><td>FALSE</td><td>FALSE</td><td>TRUE</td><td>FALSE</td><td>FALSE</td><td>FALSE</td><td>FALSE</td><td> TRUE</td><td>FALSE</td><td>master</td></tr>\n",
       "\t<tr><td>coding-interview-university</td><td>A complete computer science study plan to become a software engineer.                   </td><td>https://github.com/jwasham/coding-interview-university   </td><td>2016-06-06 02:34:12</td><td>2023-09-21 10:54:48</td><td>NA                                                       </td><td> 20998</td><td>265161</td><td>69434</td><td>   56</td><td>⋯</td><td> TRUE</td><td>FALSE</td><td>TRUE</td><td>FALSE</td><td>FALSE</td><td>FALSE</td><td>FALSE</td><td>FALSE</td><td>FALSE</td><td>main  </td></tr>\n",
       "\t<tr><td>public-apis                </td><td>A collective list of free APIs                                                          </td><td>https://github.com/public-apis/public-apis               </td><td>2016-03-20 23:49:42</td><td>2023-09-21 11:22:06</td><td>http://public-apis.org                                   </td><td>  5088</td><td>256615</td><td>29254</td><td>  191</td><td>⋯</td><td> TRUE</td><td>FALSE</td><td>TRUE</td><td>FALSE</td><td>FALSE</td><td>FALSE</td><td>FALSE</td><td>FALSE</td><td>FALSE</td><td>master</td></tr>\n",
       "</tbody>\n",
       "</table>\n"
      ],
      "text/latex": [
       "A tibble: 6 × 24\n",
       "\\begin{tabular}{lllllllllllllllllllll}\n",
       " Name & Description & URL & Created At & Updated At & Homepage & Size & Stars & Forks & Issues & ⋯ & Has Issues & Has Projects & Has Downloads & Has Wiki & Has Pages & Has Discussions & Is Fork & Is Archived & Is Template & Default Branch\\\\\n",
       " <chr> & <chr> & <chr> & <dttm> & <dttm> & <chr> & <dbl> & <dbl> & <dbl> & <dbl> & ⋯ & <lgl> & <lgl> & <lgl> & <lgl> & <lgl> & <lgl> & <lgl> & <lgl> & <lgl> & <chr>\\\\\n",
       "\\hline\n",
       "\t freeCodeCamp                & freeCodeCamp.org's open-source codebase and curriculum. Learn to code for free.          & https://github.com/freeCodeCamp/freeCodeCamp              & 2014-12-24 17:49:19 & 2023-09-21 11:32:33 & http://contribute.freecodecamp.org/                       & 387451 & 374074 & 33599 &   248 & ⋯ &  TRUE &  TRUE & TRUE & FALSE &  TRUE & FALSE & FALSE & FALSE & FALSE & main  \\\\\n",
       "\t free-programming-books      & :books: Freely available programming books                                               & https://github.com/EbookFoundation/free-programming-books & 2013-10-11 06:50:37 & 2023-09-21 11:09:25 & https://ebookfoundation.github.io/free-programming-books/ &  17087 & 298393 & 57194 &    46 & ⋯ &  TRUE & FALSE & TRUE & FALSE &  TRUE & FALSE & FALSE & FALSE & FALSE & main  \\\\\n",
       "\t awesome                     & 😎 Awesome lists about all kinds of interesting topics                                   & https://github.com/sindresorhus/awesome                   & 2014-07-11 13:42:37 & 2023-09-21 11:18:22 & NA                                                        &   1441 & 269997 & 26485 &    61 & ⋯ &  TRUE & FALSE & TRUE & FALSE &  TRUE & FALSE & FALSE & FALSE & FALSE & main  \\\\\n",
       "\t 996.ICU                     & Repo for counting stars and contributing. Press F to pay respect to glorious developers. & https://github.com/996icu/996.ICU                         & 2019-03-26 07:31:14 & 2023-09-21 08:09:01 & https://996.icu                                           & 187799 & 267901 & 21497 & 16712 & ⋯ & FALSE & FALSE & TRUE & FALSE & FALSE & FALSE & FALSE &  TRUE & FALSE & master\\\\\n",
       "\t coding-interview-university & A complete computer science study plan to become a software engineer.                    & https://github.com/jwasham/coding-interview-university    & 2016-06-06 02:34:12 & 2023-09-21 10:54:48 & NA                                                        &  20998 & 265161 & 69434 &    56 & ⋯ &  TRUE & FALSE & TRUE & FALSE & FALSE & FALSE & FALSE & FALSE & FALSE & main  \\\\\n",
       "\t public-apis                 & A collective list of free APIs                                                           & https://github.com/public-apis/public-apis                & 2016-03-20 23:49:42 & 2023-09-21 11:22:06 & http://public-apis.org                                    &   5088 & 256615 & 29254 &   191 & ⋯ &  TRUE & FALSE & TRUE & FALSE & FALSE & FALSE & FALSE & FALSE & FALSE & master\\\\\n",
       "\\end{tabular}\n"
      ],
      "text/markdown": [
       "\n",
       "A tibble: 6 × 24\n",
       "\n",
       "| Name &lt;chr&gt; | Description &lt;chr&gt; | URL &lt;chr&gt; | Created At &lt;dttm&gt; | Updated At &lt;dttm&gt; | Homepage &lt;chr&gt; | Size &lt;dbl&gt; | Stars &lt;dbl&gt; | Forks &lt;dbl&gt; | Issues &lt;dbl&gt; | ⋯ ⋯ | Has Issues &lt;lgl&gt; | Has Projects &lt;lgl&gt; | Has Downloads &lt;lgl&gt; | Has Wiki &lt;lgl&gt; | Has Pages &lt;lgl&gt; | Has Discussions &lt;lgl&gt; | Is Fork &lt;lgl&gt; | Is Archived &lt;lgl&gt; | Is Template &lt;lgl&gt; | Default Branch &lt;chr&gt; |\n",
       "|---|---|---|---|---|---|---|---|---|---|---|---|---|---|---|---|---|---|---|---|---|\n",
       "| freeCodeCamp                | freeCodeCamp.org's open-source codebase and curriculum. Learn to code for free.          | https://github.com/freeCodeCamp/freeCodeCamp              | 2014-12-24 17:49:19 | 2023-09-21 11:32:33 | http://contribute.freecodecamp.org/                       | 387451 | 374074 | 33599 |   248 | ⋯ |  TRUE |  TRUE | TRUE | FALSE |  TRUE | FALSE | FALSE | FALSE | FALSE | main   |\n",
       "| free-programming-books      | :books: Freely available programming books                                               | https://github.com/EbookFoundation/free-programming-books | 2013-10-11 06:50:37 | 2023-09-21 11:09:25 | https://ebookfoundation.github.io/free-programming-books/ |  17087 | 298393 | 57194 |    46 | ⋯ |  TRUE | FALSE | TRUE | FALSE |  TRUE | FALSE | FALSE | FALSE | FALSE | main   |\n",
       "| awesome                     | 😎 Awesome lists about all kinds of interesting topics                                   | https://github.com/sindresorhus/awesome                   | 2014-07-11 13:42:37 | 2023-09-21 11:18:22 | NA                                                        |   1441 | 269997 | 26485 |    61 | ⋯ |  TRUE | FALSE | TRUE | FALSE |  TRUE | FALSE | FALSE | FALSE | FALSE | main   |\n",
       "| 996.ICU                     | Repo for counting stars and contributing. Press F to pay respect to glorious developers. | https://github.com/996icu/996.ICU                         | 2019-03-26 07:31:14 | 2023-09-21 08:09:01 | https://996.icu                                           | 187799 | 267901 | 21497 | 16712 | ⋯ | FALSE | FALSE | TRUE | FALSE | FALSE | FALSE | FALSE |  TRUE | FALSE | master |\n",
       "| coding-interview-university | A complete computer science study plan to become a software engineer.                    | https://github.com/jwasham/coding-interview-university    | 2016-06-06 02:34:12 | 2023-09-21 10:54:48 | NA                                                        |  20998 | 265161 | 69434 |    56 | ⋯ |  TRUE | FALSE | TRUE | FALSE | FALSE | FALSE | FALSE | FALSE | FALSE | main   |\n",
       "| public-apis                 | A collective list of free APIs                                                           | https://github.com/public-apis/public-apis                | 2016-03-20 23:49:42 | 2023-09-21 11:22:06 | http://public-apis.org                                    |   5088 | 256615 | 29254 |   191 | ⋯ |  TRUE | FALSE | TRUE | FALSE | FALSE | FALSE | FALSE | FALSE | FALSE | master |\n",
       "\n"
      ],
      "text/plain": [
       "  Name                       \n",
       "1 freeCodeCamp               \n",
       "2 free-programming-books     \n",
       "3 awesome                    \n",
       "4 996.ICU                    \n",
       "5 coding-interview-university\n",
       "6 public-apis                \n",
       "  Description                                                                             \n",
       "1 freeCodeCamp.org's open-source codebase and curriculum. Learn to code for free.         \n",
       "2 :books: Freely available programming books                                              \n",
       "3 😎 Awesome lists about all kinds of interesting topics                                  \n",
       "4 Repo for counting stars and contributing. Press F to pay respect to glorious developers.\n",
       "5 A complete computer science study plan to become a software engineer.                   \n",
       "6 A collective list of free APIs                                                          \n",
       "  URL                                                       Created At         \n",
       "1 https://github.com/freeCodeCamp/freeCodeCamp              2014-12-24 17:49:19\n",
       "2 https://github.com/EbookFoundation/free-programming-books 2013-10-11 06:50:37\n",
       "3 https://github.com/sindresorhus/awesome                   2014-07-11 13:42:37\n",
       "4 https://github.com/996icu/996.ICU                         2019-03-26 07:31:14\n",
       "5 https://github.com/jwasham/coding-interview-university    2016-06-06 02:34:12\n",
       "6 https://github.com/public-apis/public-apis                2016-03-20 23:49:42\n",
       "  Updated At          Homepage                                                 \n",
       "1 2023-09-21 11:32:33 http://contribute.freecodecamp.org/                      \n",
       "2 2023-09-21 11:09:25 https://ebookfoundation.github.io/free-programming-books/\n",
       "3 2023-09-21 11:18:22 NA                                                       \n",
       "4 2023-09-21 08:09:01 https://996.icu                                          \n",
       "5 2023-09-21 10:54:48 NA                                                       \n",
       "6 2023-09-21 11:22:06 http://public-apis.org                                   \n",
       "  Size   Stars  Forks Issues ⋯ Has Issues Has Projects Has Downloads Has Wiki\n",
       "1 387451 374074 33599   248  ⋯  TRUE       TRUE        TRUE          FALSE   \n",
       "2  17087 298393 57194    46  ⋯  TRUE      FALSE        TRUE          FALSE   \n",
       "3   1441 269997 26485    61  ⋯  TRUE      FALSE        TRUE          FALSE   \n",
       "4 187799 267901 21497 16712  ⋯ FALSE      FALSE        TRUE          FALSE   \n",
       "5  20998 265161 69434    56  ⋯  TRUE      FALSE        TRUE          FALSE   \n",
       "6   5088 256615 29254   191  ⋯  TRUE      FALSE        TRUE          FALSE   \n",
       "  Has Pages Has Discussions Is Fork Is Archived Is Template Default Branch\n",
       "1  TRUE     FALSE           FALSE   FALSE       FALSE       main          \n",
       "2  TRUE     FALSE           FALSE   FALSE       FALSE       main          \n",
       "3  TRUE     FALSE           FALSE   FALSE       FALSE       main          \n",
       "4 FALSE     FALSE           FALSE    TRUE       FALSE       master        \n",
       "5 FALSE     FALSE           FALSE   FALSE       FALSE       main          \n",
       "6 FALSE     FALSE           FALSE   FALSE       FALSE       master        "
      ]
     },
     "metadata": {},
     "output_type": "display_data"
    }
   ],
   "source": [
    "# Print Table 1\n",
    "head(repo_raw)"
   ]
  },
  {
   "cell_type": "markdown",
   "id": "ab307655-ad30-482a-b86b-def6fc30d48b",
   "metadata": {},
   "source": [
    "**Table 2:** Description of Variables in the GitHub Repositories Dataset.\n",
    "\n",
    "| Name            | Description | Type        |\n",
    "| -----------     | ----------- | ----------- |\n",
    "| Name            | The name of the GitHub repository | Text |\n",
    "| Desription      | Summary of the purpose or focus of the repository | Text  |\n",
    "| URL             | The unique URL or web address that links to the GitHub repository | Text  |\n",
    "| Created At      | The date and time when the repository was initially created on GitHub, in ISO 8601 format | Date |\n",
    "| Updated At      | The date and time of the most recent update or modification to the repository, in ISO 8601 format | Date |\n",
    "| Homepage        | The URL to the homepage or landing page associated with the repository | Text |\n",
    "| Size            | The size of the repository in bytes | Numerical, discrete |\n",
    "| Stars           | The number of stars or likes that the repository has received from other GitHub users | Numerical, discrete |\n",
    "| Forks           | The number of times the repository has been forked by other GitHub users | Numerical, discrete |\n",
    "| Issues          | The total number of open issues | Numerical, discrete |\n",
    "| Watchers        | The number of GitHub users who are \"watching\" or monitoring the repository for updates and changes | Numerical, discrete |\n",
    "| Language        | The primary programming language | Categorical, nominal  |\n",
    "| License         | Information about the software license using a license identifier | Categorical, nominal |\n",
    "| Topics          | A list of topics or tags associated with the repository | Categorical, nominal |\n",
    "| Has Issues      | A boolean value indicating whether the repository has an issue tracker enabled. In this case, it's true, meaning it has an issue tracker | Boolean |\n",
    "| Has Projects    | A boolean value indicating whether the repository uses GitHub Projects to manage and organize tasks and work items | Boolean |\n",
    "| Has Downloads   | A boolean value indicating whether the repository offers downloadable files or assets to users | Boolean |\n",
    "| Has Wiki        | A boolean value indicating whether the repository has an associated wiki with additional documentation and information | Boolean |\n",
    "| Has Pages       | A boolean value indicating whether the repository has GitHub Pages enabled, allowing the creation of a website associated with the repository | Boolean |\n",
    "| Has Discussions | A boolean value indicating whether the repository has GitHub Discussions enabled, allowing community discussions and collaboration | Boolean |\n",
    "| Is Fork         | A boolean value indicating whether the repository is a fork of another repository. In this case, it's false, meaning it is not a fork | Boolean |\n",
    "| Is Archived     | A boolean value indicating whether the repository is archived. Archived repositories are typically read-only and are no longer actively maintained | Boolean |\n",
    "| Is Template     | A boolean value indicating whether the repository is set up as a template | Boolean |\n",
    "| Default Branch  | The name of the default branch | Categorical, nominal |\n",
    "\n"
   ]
  },
  {
   "cell_type": "markdown",
   "id": "f6845249-01e4-4778-ba2c-a567c39e1ef3",
   "metadata": {},
   "source": [
    "## 2.0 Questions"
   ]
  },
  {
   "cell_type": "markdown",
   "id": "b8f9eb17-84b6-47ca-9155-81e885c26bd5",
   "metadata": {},
   "source": [
    "The response variable of interest is `Stars`, which represents a measure of GitHub repository popularity based on the number of stars or likes received from other GitHub users. The input variables considered include `Size`, `Forks`, and `Language`. These variables will be used to investigate the following inferential questions:\n",
    "\n",
    "1. Is GitHub repository popularity associated with the size of the repository?\n",
    "2. Is GitHub repository popularity associated with the number of times the repository has been forked by other GitHub users?\n",
    "3. Is GitHub repository popularity associated with the primary programming language of the repository?\n",
    "4. Are there significant interactions between the input variables when considering their effect on GitHub repository popularity? \n",
    "\n",
    "To address these questions, we will develop a multiple linear regression model. This model will incorporate two continuous input variables, `Size` and `Forks`, along with one categorical input variable, `Language` and will be used to assess the association between the input variables and the continuous response variable, `Stars`.\n"
   ]
  },
  {
   "cell_type": "code",
   "execution_count": null,
   "id": "6909a277-957f-419a-adec-eecdceb739ee",
   "metadata": {},
   "outputs": [],
   "source": []
  }
 ],
 "metadata": {
  "kernelspec": {
   "display_name": "R",
   "language": "R",
   "name": "ir"
  },
  "language_info": {
   "codemirror_mode": "r",
   "file_extension": ".r",
   "mimetype": "text/x-r-source",
   "name": "R",
   "pygments_lexer": "r",
   "version": "4.2.3"
  }
 },
 "nbformat": 4,
 "nbformat_minor": 5
}
